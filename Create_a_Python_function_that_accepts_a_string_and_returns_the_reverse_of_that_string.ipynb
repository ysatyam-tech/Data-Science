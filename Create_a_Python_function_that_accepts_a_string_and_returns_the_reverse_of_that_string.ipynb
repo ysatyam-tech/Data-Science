{
  "nbformat": 4,
  "nbformat_minor": 0,
  "metadata": {
    "colab": {
      "provenance": [],
      "authorship_tag": "ABX9TyNQfFeloi6sxx6VgJStmlGQ",
      "include_colab_link": true
    },
    "kernelspec": {
      "name": "python3",
      "display_name": "Python 3"
    },
    "language_info": {
      "name": "python"
    }
  },
  "cells": [
    {
      "cell_type": "markdown",
      "metadata": {
        "id": "view-in-github",
        "colab_type": "text"
      },
      "source": [
        "<a href=\"https://colab.research.google.com/github/ysatyam-tech/Data-Science/blob/main/Create_a_Python_function_that_accepts_a_string_and_returns_the_reverse_of_that_string.ipynb\" target=\"_parent\"><img src=\"https://colab.research.google.com/assets/colab-badge.svg\" alt=\"Open In Colab\"/></a>"
      ]
    },
    {
      "cell_type": "code",
      "execution_count": 1,
      "metadata": {
        "colab": {
          "base_uri": "https://localhost:8080/"
        },
        "id": "HcxsrIeM81GE",
        "outputId": "33f87ba9-4cad-4f83-b9bd-fcd0d7526c19"
      },
      "outputs": [
        {
          "output_type": "stream",
          "name": "stdout",
          "text": [
            "Enter a string: Rahul\n",
            "The reverse of the string is: luhaR\n"
          ]
        }
      ],
      "source": [
        "# Define a function that accepts a string and returns the reverse of that string\n",
        "def reverse_string(string):\n",
        "    \"\"\"\n",
        "    This function accepts a string and returns the reverse of that string.\n",
        "    \"\"\"\n",
        "    # Use slicing to reverse the string\n",
        "    reversed_string = string[::-1]\n",
        "    # Return the reversed string\n",
        "    return reversed_string\n",
        "\n",
        "# Prompt the user to enter a string\n",
        "string = input(\"Enter a string: \")\n",
        "# Call the reverse_string function with the string as an argument, and print the result\n",
        "print(\"The reverse of the string is:\", reverse_string(string))\n"
      ]
    }
  ]
}