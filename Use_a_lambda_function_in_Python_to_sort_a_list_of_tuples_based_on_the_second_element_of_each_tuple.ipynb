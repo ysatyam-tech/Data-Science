{
  "nbformat": 4,
  "nbformat_minor": 0,
  "metadata": {
    "colab": {
      "provenance": [],
      "authorship_tag": "ABX9TyN/L7nHRDmG+LOG1cJbZNSZ",
      "include_colab_link": true
    },
    "kernelspec": {
      "name": "python3",
      "display_name": "Python 3"
    },
    "language_info": {
      "name": "python"
    }
  },
  "cells": [
    {
      "cell_type": "markdown",
      "metadata": {
        "id": "view-in-github",
        "colab_type": "text"
      },
      "source": [
        "<a href=\"https://colab.research.google.com/github/ysatyam-tech/Data-Science/blob/main/Use_a_lambda_function_in_Python_to_sort_a_list_of_tuples_based_on_the_second_element_of_each_tuple.ipynb\" target=\"_parent\"><img src=\"https://colab.research.google.com/assets/colab-badge.svg\" alt=\"Open In Colab\"/></a>"
      ]
    },
    {
      "cell_type": "code",
      "execution_count": 3,
      "metadata": {
        "colab": {
          "base_uri": "https://localhost:8080/"
        },
        "id": "HcxsrIeM81GE",
        "outputId": "1787ce2e-fed8-4bf6-d48d-0e85062be58d"
      },
      "outputs": [
        {
          "output_type": "stream",
          "name": "stdout",
          "text": [
            "Sorted list of students based on their scores:\n",
            "[('Sophia', 78), ('John', 85), ('Isabella', 88), ('Emma', 92), ('Michael', 95)]\n"
          ]
        }
      ],
      "source": [
        "# Define a list of tuples\n",
        "students_scores = [('John', 85), ('Emma', 92), ('Sophia', 78), ('Michael', 95), ('Isabella', 88)]\n",
        "\n",
        "# Sort the list of tuples based on the second element of each tuple (the score)\n",
        "sorted_students_scores = sorted(students_scores, key=lambda x: x[1])\n",
        "\n",
        "# Print the sorted list\n",
        "print(\"Sorted list of students based on their scores:\")\n",
        "print(sorted_students_scores)\n"
      ]
    }
  ]
}