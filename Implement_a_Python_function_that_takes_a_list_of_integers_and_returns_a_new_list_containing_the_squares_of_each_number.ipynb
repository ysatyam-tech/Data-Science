{
  "nbformat": 4,
  "nbformat_minor": 0,
  "metadata": {
    "colab": {
      "provenance": [],
      "authorship_tag": "ABX9TyPJ2z1YIHUgSSj59fwrVgwh",
      "include_colab_link": true
    },
    "kernelspec": {
      "name": "python3",
      "display_name": "Python 3"
    },
    "language_info": {
      "name": "python"
    }
  },
  "cells": [
    {
      "cell_type": "markdown",
      "metadata": {
        "id": "view-in-github",
        "colab_type": "text"
      },
      "source": [
        "<a href=\"https://colab.research.google.com/github/ysatyam-tech/Data-Science/blob/main/Implement_a_Python_function_that_takes_a_list_of_integers_and_returns_a_new_list_containing_the_squares_of_each_number.ipynb\" target=\"_parent\"><img src=\"https://colab.research.google.com/assets/colab-badge.svg\" alt=\"Open In Colab\"/></a>"
      ]
    },
    {
      "cell_type": "code",
      "execution_count": 4,
      "metadata": {
        "colab": {
          "base_uri": "https://localhost:8080/"
        },
        "id": "HcxsrIeM81GE",
        "outputId": "31bcad81-1a4d-41df-bcd6-c39da5aeace8"
      },
      "outputs": [
        {
          "output_type": "stream",
          "name": "stdout",
          "text": [
            "Enter a list of integers separated by spaces: 2 5 4 6 2 3\n",
            "The squares of the numbers are: [4, 25, 16, 36, 4, 9]\n"
          ]
        }
      ],
      "source": [
        "def square_numbers(numbers):\n",
        "    \"\"\"\n",
        "    This function takes a list of integers and returns a new list containing the squares of each number.\n",
        "    \"\"\"\n",
        "    # Use a list comprehension to square each number in the input list\n",
        "    squared_numbers = [num**2 for num in numbers]\n",
        "    return squared_numbers\n",
        "\n",
        "# Prompt the user to enter a list of integers separated by spaces\n",
        "numbers = input(\"Enter a list of integers separated by spaces: \").split()\n",
        "# Convert the input string into a list of integers using a list comprehension\n",
        "numbers = [int(num) for num in numbers]\n",
        "# Call the square_numbers function with the list of integers as an argument, and print the result\n",
        "print(\"The squares of the numbers are:\", square_numbers(numbers))\n",
        ""
      ]
    }
  ]
}