{
  "nbformat": 4,
  "nbformat_minor": 0,
  "metadata": {
    "colab": {
      "provenance": [],
      "authorship_tag": "ABX9TyPiIYRlb7YvGySRarh0Ra3/",
      "include_colab_link": true
    },
    "kernelspec": {
      "name": "python3",
      "display_name": "Python 3"
    },
    "language_info": {
      "name": "python"
    }
  },
  "cells": [
    {
      "cell_type": "markdown",
      "metadata": {
        "id": "view-in-github",
        "colab_type": "text"
      },
      "source": [
        "<a href=\"https://colab.research.google.com/github/ysatyam-tech/Data-Science/blob/main/Implement_a_generator_function_that_reads_a_file_line_by_line_and_yields_each_line_as_a_string.ipynb\" target=\"_parent\"><img src=\"https://colab.research.google.com/assets/colab-badge.svg\" alt=\"Open In Colab\"/></a>"
      ]
    },
    {
      "cell_type": "code",
      "execution_count": 8,
      "metadata": {
        "colab": {
          "base_uri": "https://localhost:8080/"
        },
        "id": "HcxsrIeM81GE",
        "outputId": "298f893d-c675-429d-b4b5-dca71accf0dc"
      },
      "outputs": [
        {
          "output_type": "stream",
          "name": "stdout",
          "text": [
            "\n",
            "Data science is the study of data to extract meaningful insights for business.\n",
            "\n",
            "It is a multidisciplinary approach that combines principles and\n",
            "practices from the fields of mathematics, statistics, artificial intelligence, and computer engineering\n",
            "to analyze large amounts of data.\n",
            "\n",
            "This analysis helps data scientists to ask and answer questions like what happened, why it happened, what will happen, and what can be done with the results.\n"
          ]
        }
      ],
      "source": [
        "def read_file_line_by_line(file_path):\n",
        "    \"\"\"\n",
        "    A generator function that reads a file line by line.\n",
        "\n",
        "    Args:\n",
        "    file_path (str): The path to the file.\n",
        "\n",
        "    Yields:\n",
        "    str: Each line of the file as a string.\n",
        "    \"\"\"\n",
        "    try:\n",
        "        # Open the file in read mode\n",
        "        with open(file_path, 'r') as file:\n",
        "            # Iterate over each line in the file\n",
        "            for line in file:\n",
        "                # Yield the current line after stripping trailing newline characters\n",
        "                yield line.rstrip()\n",
        "    except FileNotFoundError:\n",
        "        # Handle the case where the file is not found\n",
        "        print(f\"The file at {file_path} was not found.\")\n",
        "    except IOError:\n",
        "        # Handle other I/O errors that may occur while reading the file\n",
        "        print(f\"An error occurred while reading the file at {file_path}.\")\n",
        "\n",
        "# Example usage\n",
        "file_path = '/content/Read.txt'  # Set the file path\n",
        "# Use the generator function to read and print each line from the file\n",
        "for line in read_file_line_by_line(file_path):\n",
        "    print(line)  # Print the current line\n"
      ]
    }
  ]
}