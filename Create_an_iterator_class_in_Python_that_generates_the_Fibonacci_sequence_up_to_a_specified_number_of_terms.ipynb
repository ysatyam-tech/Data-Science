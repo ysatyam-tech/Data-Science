{
  "nbformat": 4,
  "nbformat_minor": 0,
  "metadata": {
    "colab": {
      "provenance": [],
      "authorship_tag": "ABX9TyO9YNEL22Le77/e8PX+1oLo",
      "include_colab_link": true
    },
    "kernelspec": {
      "name": "python3",
      "display_name": "Python 3"
    },
    "language_info": {
      "name": "python"
    }
  },
  "cells": [
    {
      "cell_type": "markdown",
      "metadata": {
        "id": "view-in-github",
        "colab_type": "text"
      },
      "source": [
        "<a href=\"https://colab.research.google.com/github/ysatyam-tech/Data-Science/blob/main/Create_an_iterator_class_in_Python_that_generates_the_Fibonacci_sequence_up_to_a_specified_number_of_terms.ipynb\" target=\"_parent\"><img src=\"https://colab.research.google.com/assets/colab-badge.svg\" alt=\"Open In Colab\"/></a>"
      ]
    },
    {
      "cell_type": "code",
      "execution_count": 2,
      "metadata": {
        "colab": {
          "base_uri": "https://localhost:8080/"
        },
        "id": "HcxsrIeM81GE",
        "outputId": "1622951e-0ef5-4263-8e6a-f81066827f66"
      },
      "outputs": [
        {
          "output_type": "stream",
          "name": "stdout",
          "text": [
            "0\n",
            "1\n",
            "1\n",
            "2\n",
            "3\n",
            "5\n",
            "8\n",
            "13\n",
            "21\n",
            "34\n"
          ]
        }
      ],
      "source": [
        "# Define an iterator class for generating Fibonacci sequence up to a specified number of terms\n",
        "class FibonacciIterator:\n",
        "    def __init__(self, terms):\n",
        "        self.terms = terms  # Initialize the number of terms for the Fibonacci sequence\n",
        "        self.current = 0  # Initialize the current term index\n",
        "        self.a, self.b = 0, 1  # Initialize the first two Fibonacci numbers\n",
        "        self.count = 0  # Initialize the count of generated terms\n",
        "\n",
        "    def __iter__(self):\n",
        "        return self  # Return the iterator object\n",
        "\n",
        "    def __next__(self):\n",
        "        if self.count >= self.terms:  # Check if the specified number of terms has been generated\n",
        "            raise StopIteration  # Raise StopIteration when all terms have been generated\n",
        "        else:\n",
        "            self.count += 1  # Increment the count of generated terms\n",
        "            result = self.a  # Store the current Fibonacci number\n",
        "            self.a, self.b = self.b, self.a + self.b  # Calculate the next Fibonacci number\n",
        "            return result  # Return the current Fibonacci number\n",
        "\n",
        "# Specify the number of terms for the Fibonacci sequence\n",
        "num_terms = 10\n",
        "\n",
        "# Create an instance of the FibonacciIterator class\n",
        "fibonacci_iter = FibonacciIterator(num_terms)\n",
        "\n",
        "# Iterate over the Fibonacci sequence and print the terms\n",
        "for term in fibonacci_iter:\n",
        "    print(term)  # Print each term of the Fibonacci sequence\n"
      ]
    }
  ]
}