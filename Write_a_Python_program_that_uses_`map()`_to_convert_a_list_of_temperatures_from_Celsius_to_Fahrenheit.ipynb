{
  "nbformat": 4,
  "nbformat_minor": 0,
  "metadata": {
    "colab": {
      "provenance": [],
      "authorship_tag": "ABX9TyMvAZGipezjUtlC2eV5CJCD",
      "include_colab_link": true
    },
    "kernelspec": {
      "name": "python3",
      "display_name": "Python 3"
    },
    "language_info": {
      "name": "python"
    }
  },
  "cells": [
    {
      "cell_type": "markdown",
      "metadata": {
        "id": "view-in-github",
        "colab_type": "text"
      },
      "source": [
        "<a href=\"https://colab.research.google.com/github/ysatyam-tech/Data-Science/blob/main/Write_a_Python_program_that_uses_%60map()%60_to_convert_a_list_of_temperatures_from_Celsius_to_Fahrenheit.ipynb\" target=\"_parent\"><img src=\"https://colab.research.google.com/assets/colab-badge.svg\" alt=\"Open In Colab\"/></a>"
      ]
    },
    {
      "cell_type": "code",
      "execution_count": 10,
      "metadata": {
        "colab": {
          "base_uri": "https://localhost:8080/"
        },
        "id": "HcxsrIeM81GE",
        "outputId": "01f79370-62fb-49a9-9d5f-cba63a00f8e8"
      },
      "outputs": [
        {
          "output_type": "stream",
          "name": "stdout",
          "text": [
            "Enter temperatures in Celsius, separated by spaces: 37\n",
            "Temperatures in Celsius: [37.0]\n",
            "Temperatures in Fahrenheit: [98.6]\n"
          ]
        }
      ],
      "source": [
        "# Function to convert Celsius to Fahrenheit\n",
        "def celsius_to_fahrenheit(c):\n",
        "    return (c * 9/5) + 32\n",
        "\n",
        "# Get user input for the list of temperatures in Celsius\n",
        "celsius_input = input(\"Enter temperatures in Celsius, separated by spaces: \")\n",
        "\n",
        "# Convert the input string to a list of floats\n",
        "celsius_temperatures = list(map(float, celsius_input.split()))\n",
        "\n",
        "# Use the map() function to apply the conversion to each temperature in the list\n",
        "fahrenheit_temperatures = list(map(celsius_to_fahrenheit, celsius_temperatures))\n",
        "\n",
        "# Print the converted temperatures\n",
        "print(\"Temperatures in Celsius:\", celsius_temperatures)\n",
        "print(\"Temperatures in Fahrenheit:\", fahrenheit_temperatures)\n"
      ]
    }
  ]
}