{
  "nbformat": 4,
  "nbformat_minor": 0,
  "metadata": {
    "colab": {
      "provenance": [],
      "authorship_tag": "ABX9TyOmgFFZPOC5+cYRtKzYmgtG",
      "include_colab_link": true
    },
    "kernelspec": {
      "name": "python3",
      "display_name": "Python 3"
    },
    "language_info": {
      "name": "python"
    }
  },
  "cells": [
    {
      "cell_type": "markdown",
      "metadata": {
        "id": "view-in-github",
        "colab_type": "text"
      },
      "source": [
        "<a href=\"https://colab.research.google.com/github/ysatyam-tech/Data-Science/blob/main/Write_a_Python_program%2C_which_returns_a_list_with_2_tuples_Each_tuple_consists_of_the_order_number_and_the_product_of_the_price_per_item_and_the_quantity_The_product_should_be_increased_by_10%2C_%E2%82%AC_if_the_value_of_the_order_is_smaller_than_100%2C00_%E2%82%AC_Wr.ipynb\" target=\"_parent\"><img src=\"https://colab.research.google.com/assets/colab-badge.svg\" alt=\"Open In Colab\"/></a>"
      ]
    },
    {
      "cell_type": "code",
      "execution_count": 7,
      "metadata": {
        "colab": {
          "base_uri": "https://localhost:8080/"
        },
        "id": "HcxsrIeM81GE",
        "outputId": "a0429e78-d37e-41f9-c14d-b01d374bdc8f"
      },
      "outputs": [
        {
          "output_type": "stream",
          "name": "stdout",
          "text": [
            "Order Number\tTotal Price\n",
            "34587\t\t163.80\n",
            "98762\t\t284.00\n",
            "77226\t\t108.85\n",
            "88112\t\t84.97\n"
          ]
        }
      ],
      "source": [
        "def calculate_order_totals(data):\n",
        "    \"\"\"Calculates order totals with potential surcharge.\n",
        "\n",
        "    Args:\n",
        "        data: A list of tuples, where each tuple contains (order_number, book_title, author, quantity, price_per_item).\n",
        "\n",
        "    Returns:\n",
        "        A list of tuples, where each tuple contains (order_number, total_price).\n",
        "    \"\"\"\n",
        "\n",
        "    order_totals = []  # Initialize an empty list to store order totals\n",
        "    for order in data:  # Iterate over each order in the data\n",
        "        order_number, _, _, quantity, price_per_item = order  # Extract order number, quantity, and price_per_item\n",
        "        total_price = quantity * price_per_item  # Calculate the total price\n",
        "        if total_price < 100:  # Check if total price is less than 100\n",
        "            total_price += 10  # Add a surcharge of 10 euros\n",
        "        order_totals.append((order_number, total_price))  # Append order number and total price to the list\n",
        "    return order_totals  # Return the list of order totals\n",
        "\n",
        "# Sample data from the image\n",
        "data = [\n",
        "    (\"34587\", \"Learning Python\", \"Mark Lutz\", 4, 40.95),  # Order 1 data\n",
        "    (\"98762\", \"Programming Python\", \"Mark Lutz\", 5, 56.80),  # Order 2 data\n",
        "    (\"77226\", \"Head First Python\", \"Paul Barry\", 3, 32.95),  # Order 3 data\n",
        "    (\"88112\", \"Einführung in Python3\", \"Bernd Klein\", 3, 24.99)  # Order 4 data\n",
        "]\n",
        "\n",
        "result = calculate_order_totals(data)  # Calculate order totals for the sample data\n",
        "\n",
        "print(\"Order Number\\tTotal Price\")  # Print column headers\n",
        "for order_number, total_price in result:  # Iterate over the calculated order totals\n",
        "    print(f\"{order_number}\\t\\t{total_price:.2f}\")  # Print order number and total price with formatting\n"
      ]
    }
  ]
}