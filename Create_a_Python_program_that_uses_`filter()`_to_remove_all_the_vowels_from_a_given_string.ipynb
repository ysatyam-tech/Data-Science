{
  "nbformat": 4,
  "nbformat_minor": 0,
  "metadata": {
    "colab": {
      "provenance": [],
      "authorship_tag": "ABX9TyOc4qKXHdGg02TAdtt6uJxO",
      "include_colab_link": true
    },
    "kernelspec": {
      "name": "python3",
      "display_name": "Python 3"
    },
    "language_info": {
      "name": "python"
    }
  },
  "cells": [
    {
      "cell_type": "markdown",
      "metadata": {
        "id": "view-in-github",
        "colab_type": "text"
      },
      "source": [
        "<a href=\"https://colab.research.google.com/github/ysatyam-tech/Data-Science/blob/main/Create_a_Python_program_that_uses_%60filter()%60_to_remove_all_the_vowels_from_a_given_string.ipynb\" target=\"_parent\"><img src=\"https://colab.research.google.com/assets/colab-badge.svg\" alt=\"Open In Colab\"/></a>"
      ]
    },
    {
      "cell_type": "code",
      "execution_count": 9,
      "metadata": {
        "colab": {
          "base_uri": "https://localhost:8080/"
        },
        "id": "HcxsrIeM81GE",
        "outputId": "eca7c642-30fc-4975-ca60-6ba2cc12ef5e"
      },
      "outputs": [
        {
          "output_type": "stream",
          "name": "stdout",
          "text": [
            "Enter a string: Rahul And Chandresh\n",
            "String after removing vowels: Rhl nd Chndrsh\n"
          ]
        }
      ],
      "source": [
        "# Function to check if a character is not a vowel\n",
        "def is_not_vowel(char):\n",
        "    vowels = 'aeiouAEIOU'\n",
        "    return char not in vowels\n",
        "\n",
        "# Get user input for the string\n",
        "input_string = input(\"Enter a string: \")\n",
        "\n",
        "# Use the filter() function to remove vowels from the input string\n",
        "filtered_string = ''.join(filter(is_not_vowel, input_string))\n",
        "\n",
        "# Print the filtered string\n",
        "print(\"String after removing vowels:\", filtered_string)\n"
      ]
    }
  ]
}